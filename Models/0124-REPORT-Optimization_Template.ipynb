{
 "cells": [
  {
   "cell_type": "markdown",
   "metadata": {},
   "source": [
    "# <center>Using Optimization in American Politics</center>\n",
    "\n",
    "<center>by Shayla Olson</center>"
   ]
  },
  {
   "cell_type": "markdown",
   "metadata": {},
   "source": [
    "   Optimization methods are the primary methods among political scientists. A significant majority of our work is focused on optimizing parameters that bring the results of our outcome of interest. My primary field of study is American politics, in which we use optimization to answer questions about political attitudes, election outcomes, vote choice, civic engagement, and much more. In this report, I will provide two example papers in political science that use optimization on different parameters and outcomes. In particular, I am focusing on papers that use maximum likelihood techniques, in which we optimize the parameters to find their most likely value to observe the values of the outcome variable that we do. Maximum likelihood models are widely popular because many of our outcomes are binary outcomes (vote choice), counts, and scaled outcomes (political attitudes).\n",
    "   \n",
    "   \n",
    "   Bolton and Thrower (2016) explore the contexts that lead to a greater amount of executive orders being signed by Presidents. They try to optimize the following parameters to explain the number of executive orders in a given year: legislative capacity and divided government. While many think the modern president will issue more executive orders during divided government, many studies have found the opposite to be the case. This is because, with a divided government, the president will not risk the executive order being overturned by an opposing Congress. The authors suggest that the use of executive orders is not only dependent on divided government like previous research has presented, but also dependent on legislative capacity. The number of executive orders data from 1905 to 2013 is found from the CIS Index to Presidential Executive Orders & Proclamations. The results suggest that presidents are limited by legislative capacity. Additionally, consistent with previous literature, the authors find that in periods of divided government after 1945 (high legislative capacity), presidents use fewer executive orders. This is an optimization problem in that they use negative binomial regression, which is a model used when the outcome of interest is a count. It optimizes the independent variables (divided government and legislative capacity) to give the most likely value of these parameters to have given the outcome (count) that is observed. \n",
    "   \n",
    "   \n",
    "   Some of our outcomes of interest are not inherently political, but instead we expect that politics has an effect on other aspects of life. Djupe, Neiheisel, and Sokhey (2018) examine how perceived political differences within a church and feelings towards the Christian Right influence disaffiliation. Their argument demonstrates that religious affiliation and identity are separate concepts, and disaffiliation works differently for each. In other words, how do political differences cause someone to leave their church or disidentify with religion? This is an important question because in current times, there is the highest number of religious “nones”—people who do not identify as religious, but also do not identify as atheist nor agnostic—ever.  Other scholars (most notably, see Campbell et al. 2018) have grappled with this question and Djupe, Neiheisel, and Sokhey also examine it. They try to optimize the parameters of feelings towards the Christian Right (the vast majority of white Christians who identify as Republican), perceived political differences with a person’s specific church, and other differences such as demographics and age that someone may hold with a church. They use a logistic regression model on a binary outcome (whether or not someone disaffiliates with their church) and find that perceived political differences with an individual’s church has a positive effect on disaffiliation. \n",
    "   \n",
    "   \n",
    "   After speaking of these two very different but popular political science papers in detail, I acknowledge the vast majority of political science papers that use ordinary least squares (OLS) regression to explore political outcomes (i.e. Bansak, Hainmueller, and Hangartner 2016; Bond et al. 2012; Collingwood, Lajevardi, and Oskooii 2018; Enos 2014; Wong 2018). In addition, a newer (to political science) and exciting method being applied to political science questions is network analysis, in order to explore the relational dependencies of our outcome variables. For example, countries, members of Congress, districts, and much more are not independent from one another and networks can pick up on reciprocity and community clustering (Boehmke et al. 2019; Gade et al. 2019; Metternich et al. 2013; Minhas, Hoff, and Ward 2016). These articles and above examples touch on just a few instances of optimization in political science. It is safe to say that optimization methods are the most common form of empirical analyses that political scientists use. Additionally, we often have dozens of covariates of interest. For example, if we are trying to understand or predict vote choice, we might include age, gender, race, education, income, district competitiveness, candidate incumbency, partisan identification, ideological stance, and religion just as a start. These multitudes of variables as well as the introduction of big data to political science has made necessary computational approaches to these questions."
   ]
  },
  {
   "cell_type": "markdown",
   "metadata": {},
   "source": [
    "---\n",
    "# References\n",
    "\n",
    "Bansak, K., J. Hainmueller, and D. Hangartner. 2016. “How Economic, Humanitarian, and Religious Concerns Shape European Attitudes toward Asylum Seekers.” Science 354(6309): 217–22.\n",
    "\n",
    "\n",
    "Boehmke, Frederick et al. 2019. “State Diffusion Networks - Latent Network Ties from SPID v1.0.” https://dataverse.harvard.edu/citation?persistentId=doi:10.7910/DVN/1QJCDJ (July 4, 2019).\n",
    "\n",
    "\n",
    "Bolton, Alexander, and Sharece Thrower. 2016. “Legislative Capacity and Executive Unilateralism.” American Journal of Political Science 60(3): 649–63.\n",
    "\n",
    "\n",
    "Bond, Robert M. et al. 2012. “A 61-Million-Person Experiment in Social Influence and Political Mobilization.” Nature 489(7415): 295–98.\n",
    "\n",
    "\n",
    "Campbell, David E., Geoffrey C. Layman, John C. Green, and Nathanael G. Sumaktoyo. 2018. “Putting Politics First: The Impact of Politics on American Religious and Secular Orientations: PUTTING POLITICS FIRST.” American Journal of Political Science 62(3): 551–65.\n",
    "\n",
    "\n",
    "Collingwood, Loren, Nazita Lajevardi, and Kassra A. R. Oskooii. 2018. “A Change of Heart? Why Individual-Level Public Opinion Shifted Against Trump’s ‘Muslim Ban.’” Political Behavior 40(4): 1035–72.\n",
    "\n",
    "\n",
    "Djupe, Paul A., Jacob R. Neiheisel, and Anand E. Sokhey. 2018. “Reconsidering the Role of Politics in Leaving Religion: The Importance of Affiliation: THE ROLE OF POLITICS IN LEAVING RELIGION.” American Journal of Political Science 62(1): 161–75.\n",
    "\n",
    "\n",
    "Enos, Ryan D. 2014. “Causal Effect of Intergroup Contact on Exclusionary Attitudes.” Proceedings of the National Academy of Sciences 111(10): 3699–3704.\n",
    "\n",
    "\n",
    "Gade, Emily Kalah, Michael Gabbay, Mohammed M. Hafez, and Zane Kelly. 2019. “Networks of Cooperation: Rebel Alliances in Fragmented Civil Wars.” Journal of Conflict Resolution: 002200271982623.\n",
    "\n",
    "\n",
    "Metternich, Nils W. et al. 2013. “Antigovernment Networks in Civil Conflicts: How Network Structures Affect Conflictual Behavior: GAMES ON NETWORKS.” American Journal of Political Science: n/a-n/a.\n",
    "\n",
    "\n",
    "Minhas, Shahryar, Peter D. Hoff, and Michael D. Ward. 2016. “Inferential Approaches for Network Analyses: AMEN for Latent \n",
    "Factor Models.” arXiv:1611.00460 [stat]. http://arxiv.org/abs/1611.00460 (April 17, 2019).\n",
    "\n",
    "\n",
    "Wong, Janelle. 2018. Immigrants, Evangelicals, and Politics in an Era of Demographic Change. New York: Russell Sage Foundation."
   ]
  }
 ],
 "metadata": {
  "anaconda-cloud": {},
  "kernelspec": {
   "display_name": "Python 3",
   "language": "python",
   "name": "python3"
  },
  "language_info": {
   "codemirror_mode": {
    "name": "ipython",
    "version": 3
   },
   "file_extension": ".py",
   "mimetype": "text/x-python",
   "name": "python",
   "nbconvert_exporter": "python",
   "pygments_lexer": "ipython3",
   "version": "3.7.3"
  }
 },
 "nbformat": 4,
 "nbformat_minor": 1
}
